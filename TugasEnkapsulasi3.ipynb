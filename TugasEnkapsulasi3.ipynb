{
  "nbformat": 4,
  "nbformat_minor": 0,
  "metadata": {
    "colab": {
      "provenance": [],
      "authorship_tag": "ABX9TyPDsWU9M9y2s3hdjC1rVCBq",
      "include_colab_link": true
    },
    "kernelspec": {
      "name": "python3",
      "display_name": "Python 3"
    },
    "language_info": {
      "name": "python"
    }
  },
  "cells": [
    {
      "cell_type": "markdown",
      "metadata": {
        "id": "view-in-github",
        "colab_type": "text"
      },
      "source": [
        "<a href=\"https://colab.research.google.com/github/SilviDuwi/tugasenkapulasi3./blob/main/TugasEnkapsulasi3.ipynb\" target=\"_parent\"><img src=\"https://colab.research.google.com/assets/colab-badge.svg\" alt=\"Open In Colab\"/></a>"
      ]
    },
    {
      "cell_type": "code",
      "execution_count": 1,
      "metadata": {
        "id": "CONQiuz5oJst"
      },
      "outputs": [],
      "source": [
        "# Desain class\n",
        "class RekeningBank:\n",
        "  def __init__(self, nama_pemilik, saldo):\n",
        "    self.__nama_pemilik = nama_pemilik\n",
        "    self.__saldo = saldo\n",
        "\n",
        "  def get_nama_pemilik(self):\n",
        "    return self.__nama_pemilik\n",
        "  def set_nama_pemilik(self, nama_pemilik):\n",
        "    self.__nama_pemilik = nama_pemilik\n",
        "  def get_saldo(self):\n",
        "    return self.__saldo\n",
        "  def set_saldo(self, saldo):\n",
        "    self.__saldo = saldo\n",
        "  def setor(self, jumlah):\n",
        "    if jumlah > 0:\n",
        "      self.__saldo += jumlah\n",
        "      print('behasil.total saldo sekarang :', self.__saldo)\n",
        "    else:\n",
        "      print(\"jumlah setor harus lebih dari 0\")\n",
        "  def tarik(self, jumlah):\n",
        "    if jumlah > 0 and jumlah <= self.__saldo:\n",
        "      self.__saldo -= jumlah\n",
        "      print('tarik', jumlah)\n",
        "      print('berhasil. total saldo sekarang :', self.__saldo)\n",
        "    else:\n",
        "      print(\"jumlah saldo tidak mencukupi\")\n"
      ]
    },
    {
      "cell_type": "code",
      "source": [
        "#Program utama untuk mendemonstrasikan class RekeningBank\n",
        "#yang menunjukkan penggunaan semua fungsi yang ada\n",
        "#menganalisasi saldo dan nama_pemilik\n",
        "silvi = RekeningBank('viii',2000000)\n",
        "\n",
        "#mengembalikan nilai saldo\n",
        "print('RekeningBank:',silvi.get_nama_pemilik(), 'saldo:', silvi.get_saldo())\n",
        "\n",
        "# mengubah nilai saldo dan nama pemilik\n",
        "silvi.set_nama_pemilik('nabila')\n",
        "silvi.set_saldo('74000000')\n",
        "\n",
        "# Mengakses/menampilkan nama_pemilik dan saldo setelah diubah\n",
        "print('RekeningBank:', silvi.get_nama_pemilik(), 'saldo:', silvi.get_saldo())"
      ],
      "metadata": {
        "colab": {
          "base_uri": "https://localhost:8080/"
        },
        "id": "kTnDNsSQpAlX",
        "outputId": "66d8876b-6bd7-4aa1-8bbc-ff321c56a5f0"
      },
      "execution_count": 2,
      "outputs": [
        {
          "output_type": "stream",
          "name": "stdout",
          "text": [
            "RekeningBank: viii saldo: 2000000\n",
            "RekeningBank: nabila saldo: 74000000\n"
          ]
        }
      ]
    },
    {
      "cell_type": "code",
      "source": [
        "#demo program utama\n",
        "RekeningBanksilvi = RekeningBank(\"silvi\",1000000000000)\n",
        "\n",
        "#mengakses atau menampilkan informasi awal Rekeningbank\n",
        "print(\"informasi rekening bank sekarang:\")\n",
        "print(\"nama pemilik:\",RekeningBanksilvi.get_nama_pemilik())\n",
        "print(\"saldo awal :\", RekeningBanksilvi.get_saldo())\n",
        "\n",
        "#melakukan setor\n",
        "RekeningBanksilvi.setor(50000000) #jumlah lebih dari 0\n",
        "RekeningBanksilvi.setor(0) #jumlah kurang dengan 0\n",
        "\n",
        "#melakukan tarikan saldo\n",
        "RekeningBanksilvi.tarik(1000000) #jumlah saldo tidak melebihi saldo pertama\n",
        "RekeningBanksilvi.tarik(300000) #jumlah saldo melebihi saldo pertama\n",
        "\n",
        "#mengakses atau menampilkan informasi akhir RekeningBanksaya\n",
        "print(\"informasi rekeningbanksaya :\")\n",
        "print(\"nama pemilik :\", RekeningBanksilvi.get_nama_pemilik())\n",
        "print(\"saldo akhir :\", RekeningBanksilvi.get_saldo())\n",
        ""
      ],
      "metadata": {
        "colab": {
          "base_uri": "https://localhost:8080/"
        },
        "id": "EXjNNhMtpE_l",
        "outputId": "f414fbb4-ebbf-4c2a-90f0-6d9f960db868"
      },
      "execution_count": 3,
      "outputs": [
        {
          "output_type": "stream",
          "name": "stdout",
          "text": [
            "informasi rekening bank sekarang:\n",
            "nama pemilik: silvi\n",
            "saldo awal : 1000000000000\n",
            "behasil.total saldo sekarang : 1000050000000\n",
            "jumlah setor harus lebih dari 0\n",
            "tarik 1000000\n",
            "berhasil. total saldo sekarang : 1000049000000\n",
            "tarik 300000\n",
            "berhasil. total saldo sekarang : 1000048700000\n",
            "informasi rekeningbanksaya :\n",
            "nama pemilik : silvi\n",
            "saldo akhir : 1000048700000\n"
          ]
        }
      ]
    }
  ]
}